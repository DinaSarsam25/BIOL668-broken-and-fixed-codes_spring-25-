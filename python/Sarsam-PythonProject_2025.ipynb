{
 "cells": [
  {
   "cell_type": "code",
   "execution_count": 160,
   "metadata": {},
   "outputs": [
    {
     "name": "stdout",
     "output_type": "stream",
     "text": [
      "Trying:\n",
      "    d = DNA(\"attgggxxx\", \"geneA\", \"Human\", \"G1\")\n",
      "Expecting nothing\n",
      "ok\n",
      "Trying:\n",
      "    d.sequence\n",
      "Expecting:\n",
      "    'ATTGGGNNN'\n",
      "ok\n",
      "Trying:\n",
      "    d = DNA(\"GGCCAATT\", \"g\", \"s\", \"id\")\n",
      "Expecting nothing\n",
      "ok\n",
      "Trying:\n",
      "    d.analysis()\n",
      "Expecting:\n",
      "    4\n",
      "ok\n",
      "Trying:\n",
      "    d = DNA(\"ATGC\", \"g\", \"s\", \"id\")\n",
      "Expecting nothing\n",
      "ok\n",
      "Trying:\n",
      "    d.reverse_complement()\n",
      "Expecting:\n",
      "    'GCAT'\n",
      "ok\n",
      "Trying:\n",
      "    d = DNA(\"ATGCGT\", \"g\", \"s\", \"id\")\n",
      "Expecting nothing\n",
      "ok\n",
      "Trying:\n",
      "    len(d.six_frames())\n",
      "Expecting:\n",
      "    6\n",
      "ok\n",
      "Trying:\n",
      "    p = Protein(\"M@EEK\", \"prot\", \"sp\", \"ID1\")                                          \n",
      "Expecting nothing\n",
      "ok\n",
      "Trying:\n",
      "    p.sequence\n",
      "Expecting:\n",
      "    'MXEEK'\n",
      "ok\n",
      "Trying:\n",
      "    p = Protein(\"MEK\", \"prot\", \"sp\", \"id\")\n",
      "Expecting nothing\n",
      "ok\n",
      "Trying:\n",
      "    round(p.mol_weight(), 2)\n",
      "Expecting:\n",
      "    442.53\n",
      "ok\n",
      "Trying:\n",
      "    p = Protein(\"MEK\", \"prot\", \"sp\", \"id\")\n",
      "Expecting nothing\n",
      "ok\n",
      "Trying:\n",
      "    round(p.total_hydro(), 2)\n",
      "Expecting:\n",
      "    -5.5\n",
      "ok\n",
      "Trying:\n",
      "    r = RNA(\"atgctt\", \"r\", \"s\", \"id\")\n",
      "Expecting nothing\n",
      "ok\n",
      "Trying:\n",
      "    r.sequence\n",
      "Expecting:\n",
      "    'AUGCUU'\n",
      "ok\n",
      "Trying:\n",
      "    r = RNA(\"AUGCGU\", \"r\", \"s\", \"id\")\n",
      "Expecting nothing\n",
      "ok\n",
      "Trying:\n",
      "    r.make_codons()\n",
      "Expecting nothing\n",
      "ok\n",
      "Trying:\n",
      "    r.codons\n",
      "Expecting:\n",
      "    ['AUG', 'CGU']\n",
      "ok\n",
      "Trying:\n",
      "    r = RNA(\"AUGGAA\", \"r\", \"s\", \"id\")                                     \n",
      "Expecting nothing\n",
      "ok\n",
      "Trying:\n",
      "    r.make_codons()\n",
      "Expecting nothing\n",
      "ok\n",
      "Trying:\n",
      "    r.translate()\n",
      "Expecting:\n",
      "    'ME'\n",
      "ok\n",
      "Trying:\n",
      "    s = Seq(\"acgtac\", \"my_gene\", \"Mouse\")\n",
      "Expecting nothing\n",
      "ok\n",
      "Trying:\n",
      "    s.sequence\n",
      "Expecting:\n",
      "    'ACGTAC'\n",
      "ok\n",
      "Trying:\n",
      "    s = Seq(\"acgt\", \"gene1\", \"human\")\n",
      "Expecting nothing\n",
      "ok\n",
      "Trying:\n",
      "    print(s.fasta())\n",
      "Expecting:\n",
      "    >human gene1\n",
      "    ACGT\n",
      "ok\n",
      "Trying:\n",
      "    s = Seq(\"ACGTAC\", \"gene\", \"sp\")\n",
      "Expecting nothing\n",
      "ok\n",
      "Trying:\n",
      "    s.make_kmers(3)\n",
      "Expecting nothing\n",
      "ok\n",
      "Trying:\n",
      "    s.kmers\n",
      "Expecting:\n",
      "    ['ACG', 'CGT', 'GTA', 'TAC']\n",
      "ok\n",
      "8 items had no tests:\n",
      "    __main__\n",
      "    __main__.DNA\n",
      "    __main__.DNA.print_info\n",
      "    __main__.Protein\n",
      "    __main__.RNA\n",
      "    __main__.Seq\n",
      "    __main__.Seq.__str__\n",
      "    __main__.Seq.print_record\n",
      "13 items passed all tests:\n",
      "   2 tests in __main__.DNA.__init__\n",
      "   2 tests in __main__.DNA.analysis\n",
      "   2 tests in __main__.DNA.reverse_complement\n",
      "   2 tests in __main__.DNA.six_frames\n",
      "   2 tests in __main__.Protein.__init__\n",
      "   2 tests in __main__.Protein.mol_weight\n",
      "   2 tests in __main__.Protein.total_hydro\n",
      "   2 tests in __main__.RNA.__init__\n",
      "   3 tests in __main__.RNA.make_codons\n",
      "   3 tests in __main__.RNA.translate\n",
      "   2 tests in __main__.Seq.__init__\n",
      "   2 tests in __main__.Seq.fasta\n",
      "   3 tests in __main__.Seq.make_kmers\n",
      "29 tests in 21 items.\n",
      "29 passed and 0 failed.\n",
      "Test passed.\n"
     ]
    }
   ],
   "source": [
    "exec(open(\"SARSAM_OOP_part1_with_doctest_Lastcopy.py\").read())"
   ]
  },
  {
   "cell_type": "markdown",
   "metadata": {},
   "source": [
    "## Put this file in the same directory as your python script. Change the name of the file in the next line to test your code. "
   ]
  },
  {
   "cell_type": "markdown",
   "metadata": {},
   "source": [
    "# TEST SEQ CLASS"
   ]
  },
  {
   "cell_type": "markdown",
   "metadata": {},
   "source": [
    "## Make instance of Seq called 's' and test methods "
   ]
  },
  {
   "cell_type": "code",
   "execution_count": 161,
   "metadata": {},
   "outputs": [
    {
     "name": "stdout",
     "output_type": "stream",
     "text": [
      "H.sapiens my_gene: GATATAGGACCTTTAGGACCAC\n"
     ]
    }
   ],
   "source": [
    "s=Seq(\"  gATATAGGACctttaGGACCAC  \",\"my_gene\",\"H.sapiens\")\n",
    "s.print_record()\n",
    "s.make_kmers()\n",
    "a=s.kmers"
   ]
  },
  {
   "cell_type": "code",
   "execution_count": 162,
   "metadata": {},
   "outputs": [],
   "source": [
    "t=Seq(\" AGAGAGAGTGTTGT\",'gene2','D')"
   ]
  },
  {
   "cell_type": "code",
   "execution_count": 163,
   "metadata": {},
   "outputs": [
    {
     "name": "stdout",
     "output_type": "stream",
     "text": [
      "D gene2: AGAGAGAGTGTTGT\n"
     ]
    }
   ],
   "source": [
    "t.print_record()\n",
    "t.make_kmers()\n",
    "b=t.kmers\n",
    "out=set(a) & set(b)"
   ]
  },
  {
   "cell_type": "code",
   "execution_count": 164,
   "metadata": {},
   "outputs": [
    {
     "name": "stdout",
     "output_type": "stream",
     "text": [
      "GATATAGGACCTTTAGGACCAC\n",
      "my_gene\n",
      "H.sapiens\n"
     ]
    }
   ],
   "source": [
    "print(s)\n",
    "print(s.gene)\n",
    "print(s.species)"
   ]
  },
  {
   "cell_type": "code",
   "execution_count": 165,
   "metadata": {},
   "outputs": [
    {
     "name": "stdout",
     "output_type": "stream",
     "text": [
      "['GATAT', 'ATATA', 'TATAG', 'ATAGG', 'TAGGA', 'AGGAC', 'GGACC', 'GACCT', 'ACCTT', 'CCTTT', 'CTTTA', 'TTTAG', 'TTAGG', 'TAGGA', 'AGGAC', 'GGACC', 'GACCA', 'ACCAC']\n"
     ]
    }
   ],
   "source": [
    "s.make_kmers(5)\n",
    "print(s.kmers)"
   ]
  },
  {
   "cell_type": "code",
   "execution_count": 166,
   "metadata": {},
   "outputs": [
    {
     "name": "stdout",
     "output_type": "stream",
     "text": [
      ">H.sapiens my_gene\n",
      "GATATAGGACCTTTAGGACCAC\n"
     ]
    }
   ],
   "source": [
    "print(s.fasta())"
   ]
  },
  {
   "cell_type": "markdown",
   "metadata": {},
   "source": [
    "# TEST DNA CLASS"
   ]
  },
  {
   "cell_type": "markdown",
   "metadata": {},
   "source": [
    "## Make instance of DNA called 'd' and test methods "
   ]
  },
  {
   "cell_type": "code",
   "execution_count": 167,
   "metadata": {},
   "outputs": [
    {
     "name": "stdout",
     "output_type": "stream",
     "text": [
      "AX5667 D.terebrans\n",
      "my_dna:\n",
      "NTCAAAGCGGCGGATCTCCCAAATGA\n"
     ]
    }
   ],
   "source": [
    "d=DNA(\"  -tcaaaGCGGCGGATCTCCCaaatga\\n\",\"my_dna\",\"D.terebrans\",\"AX5667\")\n",
    "d.print_info()"
   ]
  },
  {
   "cell_type": "code",
   "execution_count": 168,
   "metadata": {},
   "outputs": [
    {
     "name": "stdout",
     "output_type": "stream",
     "text": [
      "NTCAAAGCGGCGGATCTCCCAAATGA\n",
      "13\n",
      ">D.terebrans my_dna\n",
      "NTCAAAGCGGCGGATCTCCCAAATGA\n"
     ]
    }
   ],
   "source": [
    "print(d)\n",
    "print(d.analysis())\n",
    "print(d.fasta())"
   ]
  },
  {
   "cell_type": "code",
   "execution_count": 169,
   "metadata": {},
   "outputs": [
    {
     "name": "stdout",
     "output_type": "stream",
     "text": [
      "TCATTTGGGAGATCCGCCGCTTTGAN\n"
     ]
    }
   ],
   "source": [
    "rc=d.reverse_complement()\n",
    "print(rc)"
   ]
  },
  {
   "cell_type": "code",
   "execution_count": 170,
   "metadata": {},
   "outputs": [
    {
     "name": "stdout",
     "output_type": "stream",
     "text": [
      "['NTCAAAGCGGCGGATCTCCCAAATGA', 'TCAAAGCGGCGGATCTCCCAAATGA', 'CAAAGCGGCGGATCTCCCAAATGA', 'TCATTTGGGAGATCCGCCGCTTTGAN', 'CATTTGGGAGATCCGCCGCTTTGAN', 'ATTTGGGAGATCCGCCGCTTTGAN']\n"
     ]
    }
   ],
   "source": [
    "all_6_frames=d.six_frames()\n",
    "print(all_6_frames)"
   ]
  },
  {
   "cell_type": "markdown",
   "metadata": {},
   "source": [
    "# TEST RNA CLASS"
   ]
  },
  {
   "cell_type": "markdown",
   "metadata": {},
   "source": [
    "## Make instance of RNA called 'r' and test methods "
   ]
  },
  {
   "cell_type": "code",
   "execution_count": 171,
   "metadata": {},
   "outputs": [
    {
     "name": "stdout",
     "output_type": "stream",
     "text": [
      "R5990999 G.gallus\n",
      "my_rna:\n",
      "GNAUAUAGGACCUUUAGGACCAC\n",
      "GNAUAUAGGACCUUUAGGACCAC\n"
     ]
    }
   ],
   "source": [
    "r=RNA(\"  g?ATATAGGACctttaGGACCAC  \",\"my_rna\",\"G.gallus\",\"R5990999\")\n",
    "r.print_info()\n",
    "print(r)"
   ]
  },
  {
   "cell_type": "code",
   "execution_count": 172,
   "metadata": {},
   "outputs": [
    {
     "name": "stdout",
     "output_type": "stream",
     "text": [
      "['GNA', 'UAU', 'AGG', 'ACC', 'UUU', 'AGG', 'ACC']\n"
     ]
    }
   ],
   "source": [
    "r.make_codons()\n",
    "print(r.codons)"
   ]
  },
  {
   "cell_type": "code",
   "execution_count": 173,
   "metadata": {},
   "outputs": [
    {
     "name": "stdout",
     "output_type": "stream",
     "text": [
      "XYRTFRT\n"
     ]
    }
   ],
   "source": [
    "print(r.translate())"
   ]
  },
  {
   "cell_type": "code",
   "execution_count": 174,
   "metadata": {},
   "outputs": [
    {
     "name": "stdout",
     "output_type": "stream",
     "text": [
      ">G.gallus my_rna\n",
      "GNAUAUAGGACCUUUAGGACCAC\n"
     ]
    }
   ],
   "source": [
    "print(r.fasta())"
   ]
  },
  {
   "cell_type": "markdown",
   "metadata": {},
   "source": [
    "# TEST Protein CLASS"
   ]
  },
  {
   "cell_type": "markdown",
   "metadata": {},
   "source": [
    "## Make instance of Protein called 'p' and test methods "
   ]
  },
  {
   "cell_type": "code",
   "execution_count": 175,
   "metadata": {},
   "outputs": [
    {
     "name": "stdout",
     "output_type": "stream",
     "text": [
      "WCVALKKKCCYHHHHHXYYYRSQ\n"
     ]
    }
   ],
   "source": [
    "p=Protein(\" WCVALKKKCCYhhhhh-yyyrsQ\\t\",\"my_prot\",\"D.melanogaster\",\"56008009\")\n",
    "print(p)"
   ]
  },
  {
   "cell_type": "code",
   "execution_count": 176,
   "metadata": {},
   "outputs": [
    {
     "name": "stdout",
     "output_type": "stream",
     "text": [
      ">D.melanogaster my_prot\n",
      "WCVALKKKCCYHHHHHXYYYRSQ\n"
     ]
    }
   ],
   "source": [
    "print(p.fasta())"
   ]
  },
  {
   "cell_type": "code",
   "execution_count": 177,
   "metadata": {},
   "outputs": [
    {
     "name": "stdout",
     "output_type": "stream",
     "text": [
      "[]\n"
     ]
    }
   ],
   "source": [
    "print(p.kmers)"
   ]
  },
  {
   "cell_type": "code",
   "execution_count": 178,
   "metadata": {},
   "outputs": [
    {
     "name": "stdout",
     "output_type": "stream",
     "text": [
      "['WCVAL', 'CVALK', 'VALKK', 'ALKKK', 'LKKKC', 'KKKCC', 'KKCCY', 'KCCYH', 'CCYHH', 'CYHHH', 'YHHHH', 'HHHHH', 'HHHHX', 'HHHXY', 'HHXYY', 'HXYYY', 'XYYYR', 'YYYRS', 'YYRSQ']\n"
     ]
    }
   ],
   "source": [
    "p.kmers=[]\n",
    "p.make_kmers(5)\n",
    "print(p.kmers)"
   ]
  },
  {
   "cell_type": "code",
   "execution_count": 179,
   "metadata": {},
   "outputs": [],
   "source": [
    "testp=Protein('VIKING','test','unknown',999)"
   ]
  },
  {
   "cell_type": "code",
   "execution_count": 180,
   "metadata": {},
   "outputs": [
    {
     "name": "stdout",
     "output_type": "stream",
     "text": [
      "VIKING\n"
     ]
    }
   ],
   "source": [
    "print(testp)"
   ]
  },
  {
   "cell_type": "code",
   "execution_count": 181,
   "metadata": {},
   "outputs": [
    {
     "name": "stdout",
     "output_type": "stream",
     "text": [
      "['VI', 'IK', 'KI', 'IN', 'NG']\n"
     ]
    }
   ],
   "source": [
    "testp.make_kmers(2)\n",
    "print(testp.kmers)"
   ]
  },
  {
   "cell_type": "code",
   "execution_count": 182,
   "metadata": {},
   "outputs": [
    {
     "name": "stdout",
     "output_type": "stream",
     "text": [
      "5.4\n"
     ]
    }
   ],
   "source": [
    "x=testp.total_hydro()\n",
    "print(x)"
   ]
  },
  {
   "cell_type": "code",
   "execution_count": 183,
   "metadata": {},
   "outputs": [
    {
     "name": "stdout",
     "output_type": "stream",
     "text": [
      "732.87\n"
     ]
    }
   ],
   "source": [
    "m=testp.mol_weight()\n",
    "print(m)"
   ]
  },
  {
   "cell_type": "code",
   "execution_count": null,
   "metadata": {},
   "outputs": [],
   "source": []
  },
  {
   "cell_type": "code",
   "execution_count": null,
   "metadata": {},
   "outputs": [],
   "source": []
  }
 ],
 "metadata": {
  "kernelspec": {
   "display_name": "Python 3 (ipykernel)",
   "language": "python",
   "name": "python3"
  },
  "language_info": {
   "codemirror_mode": {
    "name": "ipython",
    "version": 3
   },
   "file_extension": ".py",
   "mimetype": "text/x-python",
   "name": "python",
   "nbconvert_exporter": "python",
   "pygments_lexer": "ipython3",
   "version": "3.12.7"
  }
 },
 "nbformat": 4,
 "nbformat_minor": 4
}
